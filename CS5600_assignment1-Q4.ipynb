{
 "cells": [
  {
   "cell_type": "code",
   "execution_count": 2,
   "metadata": {},
   "outputs": [],
   "source": [
    "from scipy import stats\n",
    "import pandas as pd\n",
    "import numpy as np\n",
    "import math\n",
    "from scipy.sparse.linalg import svds\n",
    "import surprise\n",
    "from scipy.sparse import coo_matrix\n",
    "from numpy.linalg import norm\n",
    "from sklearn.metrics import mean_squared_error\n",
    "from numpy import linalg as LA"
   ]
  },
  {
   "cell_type": "code",
   "execution_count": 3,
   "metadata": {},
   "outputs": [],
   "source": [
    "import matplotlib.pyplot as plt\n"
   ]
  },
  {
   "cell_type": "code",
   "execution_count": 4,
   "metadata": {},
   "outputs": [
    {
     "name": "stderr",
     "output_type": "stream",
     "text": [
      "C:\\Users\\rcranjan.ORADEV\\AppData\\Local\\Continuum\\anaconda3\\lib\\site-packages\\ipykernel_launcher.py:29: FutureWarning: Method .as_matrix will be removed in a future version. Use .values instead.\n"
     ]
    }
   ],
   "source": [
    "cols=[\"user_id\",\"movie_id\",\"ratings\",\"timestamp\"]\n",
    "df=pd.read_csv(\"u1.base\",sep=\"\\t\",names=cols,encoding=\"latin-1\")\n",
    "test_df=pd.read_csv(\"u1.test\",sep=\"\\t\",names=cols,encoding=\"latin-1\")\n",
    "ratings_pivot = df.pivot(index='movie_id', columns='user_id', values=\"ratings\").fillna(0)\n",
    "test_ratings_pivot = df.pivot(index='movie_id', columns='user_id', values=\"ratings\").fillna(0)\n",
    "\n",
    "test_df_group_by_user = test_df.groupby('user_id')\n",
    "test_df_group_by_movie = test_df.groupby('movie_id')\n",
    "\n",
    "train_df_user_movie = df.pivot(\n",
    "    index='movie_id',\n",
    "    columns='user_id',\n",
    "    values='ratings'\n",
    ").fillna(0)\n",
    "\n",
    "\n",
    "test_df_user_movie = test_df.pivot(\n",
    "    index='movie_id',\n",
    "    columns='user_id',\n",
    "    values='ratings'\n",
    ").fillna(0)\n",
    "\n",
    "#Creating the rating matrix (rows as movies, columns as users)\n",
    "ratings_mat = np.ndarray(\n",
    "    shape=(np.max(df.movie_id.values), np.max(df.user_id.values)),\n",
    "    dtype=np.float)\n",
    "ratings_mat[df.movie_id.values-1, df.user_id.values-1] = df.ratings.values.astype(float)\n",
    "\n",
    "mat = train_df_user_movie.as_matrix()\n",
    "\n",
    "samples = [\n",
    "            (i, j, ratings_mat[i, j])\n",
    "            for i in range(1,df.movie_id.max())\n",
    "            for j in range(1,df.user_id.max())\n",
    "            if ratings_mat[i, j] > 0\n",
    "        ]\n",
    "\n"
   ]
  },
  {
   "cell_type": "code",
   "execution_count": 5,
   "metadata": {},
   "outputs": [],
   "source": [
    "def SGD(R, K, lamda=0.0005,steps=10):\n",
    "    \n",
    "    M,N = R.shape\n",
    "    # According to slide i have initialized P and Q by SVD\n",
    "    P,U,Q=svds(R,K)\n",
    "    minErr = error(R,P,Q,lamda);\n",
    "    for step in range(steps):\n",
    "        for ui in range(len(R.data)):\n",
    "            rui=R.data[ui]\n",
    "            u = R.row[ui]\n",
    "            i = R.col[ui]\n",
    "            if rui>0:\n",
    "                eui = 2*(rui - np.dot(P[u,:],Q[:,i]))\n",
    "                if math.isnan(eui):\n",
    "                    P[u,:]=P[u,:]+lamda*eui*(Q[:,i])\n",
    "                    Q[:,i]=Q[:,i]+lamda*eui*(P[u,:])\n",
    "        err = error(R,P,Q,lamda);\n",
    "        rmse = np.sqrt(error(R,P,Q,lamda)/len(R.data))\n",
    "        if rmse<0.5:\n",
    "            break\n",
    "        if err > minErr:\n",
    "            break;\n",
    "        minErr = err\n",
    "    return P,Q\n",
    "\n",
    "def error(R,P,Q,lamda=0.0005):\n",
    "    ratings = R.data\n",
    "    rows = R.row\n",
    "    cols = R.col\n",
    "    e = 0 \n",
    "    for ui in range(len(ratings)):\n",
    "        rui=ratings[ui]\n",
    "        u = rows[ui]\n",
    "        i = cols[ui]\n",
    "        if rui>0:\n",
    "            e= e + pow(rui-np.dot(P[u,:],Q[:,i]),2)\n",
    "    return e\n",
    "\n",
    "def get_group(group,key):\n",
    "    if key in group.groups: return group.get_group(key)\n",
    "    return pd.DataFrame()\n",
    "    \n",
    "\n",
    "def SGDWithRegularization(R, K, lamda=0.0005,steps=10,L1=0.01,L2=0.03):\n",
    "    \n",
    "    M,N = R.shape\n",
    "    # According to slide i have initialized P and Q by SVD\n",
    "    P,U,Q=svds(R,K)\n",
    "    minErr = np.zeros(df.user_id.max()+1) \n",
    "    finalMinEr = np.Inf;\n",
    "    for i in range(df.user_id.max()+1):\n",
    "        minErr[i] = np.Inf;\n",
    "    #hl, = plt.plot([], [])  \n",
    "    for step in range(steps):\n",
    "        px =0;\n",
    "        qx =0;\n",
    "        movies = {-1}\n",
    "        for ui in range(len(R.data)):\n",
    "            rui=R.data[ui]\n",
    "            u = R.row[ui]\n",
    "            i = R.col[ui]\n",
    "            if i in movies:\n",
    "                continue;\n",
    "            movies.add(i);\n",
    "            if rui>0:\n",
    "                eui = 2*(rui - np.dot(P[u,:],Q[:,i]))\n",
    "                tempP=P[u,:]+lamda*eui*Q[:,i]\n",
    "                tempQ=Q[:,i]+lamda*eui*P[u,:]\n",
    "                tempPx = LA.norm(P[u,:])\n",
    "                tempQx= LA.norm(Q[:,i])\n",
    "                err = error(R,P,Q,lamda);\n",
    "                if  minErr[i] > err:\n",
    "                    P[u,:]=tempP\n",
    "                    Q[:,i]=tempQ\n",
    "                    px +=  tempPx\n",
    "                    qx +=  tempQx\n",
    "                    minErr[i]=err\n",
    "                if finalMinEr > err:\n",
    "                    finalMinEr = err;\n",
    "                \n",
    "                rmse = np.sqrt(err/len(R.data))\n",
    "               \n",
    "        err = error(R,P,Q,lamda);\n",
    "        rmse = np.sqrt(err/len(R.data))\n",
    "        err = err + L1*px+L2*qx # added Regularization\n",
    "        if rmse<0.5:\n",
    "            break;\n",
    "        if err > finalMinEr:\n",
    "            break;\n",
    "        minErr = err\n",
    "    return P,Q\n",
    "\n"
   ]
  },
  {
   "cell_type": "code",
   "execution_count": 14,
   "metadata": {},
   "outputs": [],
   "source": [
    "def caculateRatingOnLatentFactor(res,key):\n",
    "    for i in list(test_df_group_by_movie.groups.keys()):\n",
    "        for j in list(test_df_group_by_user.groups.keys()):\n",
    "            test_df.loc[((test_df[\"movie_id\"]==i) & (test_df[\"user_id\"]==j)),key] =res[i,j]\n",
    "\n",
    "            \n",
    "def getAvgPrecisionAt10(key):\n",
    "    threashold=4\n",
    "    grpDfCalc = test_df.sort_values([key]).groupby('user_id')\n",
    "    group_by_key = 'movie_id';\n",
    "    actual_data = ratings_pivot.values;\n",
    "    cnt=0;\n",
    "    total =0;\n",
    "    for mov in actual_data:\n",
    "            mov_idx_ratingGtThreashold = np.argwhere(mov>threashold)\n",
    "            for userKey in list(grpDfCalc.groups.keys()):\n",
    "                user_movies = grpDfCalc.get_group(userKey)\n",
    "                union = len(np.union1d(mov_idx_ratingGtThreashold,user_movies));\n",
    "                intersection = len(np.intersect1d(mov_idx_ratingGtThreashold,user_movies));\n",
    "                if union>0 and intersection>0:          \n",
    "                    total+=(intersection/union);\n",
    "                cnt+=1;\n",
    "    if total>0:\n",
    "        return (total/cnt)\n",
    "    return 0;"
   ]
  },
  {
   "cell_type": "code",
   "execution_count": 15,
   "metadata": {},
   "outputs": [
    {
     "name": "stdout",
     "output_type": "stream",
     "text": [
      "RMSE 0.8387334849954835 for K 2\n",
      "Precision 0.002583076836709251 for K 2\n",
      "RMSE 0.8383884750079765 for K 5\n",
      "Precision 0.0020645231993078623 for K 5\n",
      "RMSE 0.8379963202330859 for K 10\n",
      "Precision 0.0017285485901582709 for K 10\n"
     ]
    }
   ],
   "source": [
    "R = coo_matrix(ratings_pivot.values)\n",
    "latentFactors = [2,5,10]\n",
    "for factor in latentFactors:\n",
    "    P,Q=SGD(R,K=factor,lamda=0.0005, steps=20)\n",
    "    print(\"RMSE {} for K {}\".format(math.sqrt(mean_squared_error(test_ratings_pivot.values,np.dot(P,Q))),factor))\n",
    "    res = np.dot(P,Q)\n",
    "    key = 'Caculate{}'.format(factor)\n",
    "    caculateRatingOnLatentFactor(res,key)\n",
    "    print(\"Precision {} for K {}\".format(getAvgPrecisionAt10(key),factor))"
   ]
  },
  {
   "cell_type": "markdown",
   "metadata": {},
   "source": [
    "With Regularization"
   ]
  },
  {
   "cell_type": "code",
   "execution_count": 52,
   "metadata": {},
   "outputs": [
    {
     "name": "stdout",
     "output_type": "stream",
     "text": [
      "RMSE 0.8387256587772448 for K 2\n",
      "Precision 0.0014911515890229862 for K 2\n",
      "RMSE 0.8383790436555402 for K 5\n",
      "Precision 0.0013136048731691354 for K 5\n",
      "RMSE 0.8379858381052904 for K 10\n",
      "Precision 0.0011753573730405359 for K 10\n",
      "RMSE 0.8387256587772448 for K 2\n",
      "Precision 0.0011753573730405359 for K 2\n",
      "RMSE 0.8383790436555402 for K 5\n",
      "Precision 0.0011753573730405359 for K 5\n",
      "RMSE 0.8379858381052904 for K 10\n",
      "Precision 0.0011753573730405359 for K 10\n",
      "RMSE 0.8387256587772448 for K 2\n",
      "Precision 0.0011753573730405359 for K 2\n",
      "RMSE 0.8383790436555402 for K 5\n",
      "Precision 0.0011753573730405359 for K 5\n",
      "RMSE 0.8379858381052904 for K 10\n",
      "Precision 0.0011753573730405359 for K 10\n"
     ]
    }
   ],
   "source": [
    "R = coo_matrix(ratings_pivot.values)\n",
    "latentFactors = [2,5,10]\n",
    "regs = [(0.001,0.003),(0.05,0.05),(0.5,0.75)]\n",
    "for l1,l2 in regs:\n",
    "    for factor in latentFactors:\n",
    "        P,Q=SGDWithRegularization(R,K=factor, steps=20,L1=l1,L2=l2)\n",
    "        print(\"RMSE {} for K {}\".format(math.sqrt(mean_squared_error(test_ratings_pivot.values,np.dot(P,Q))),factor))\n",
    "        res = np.dot(P,Q)\n",
    "        key = 'RegCaculate{}'.format(factor)\n",
    "        caculateRatingOnLatentFactor(res,key)\n",
    "        print(\"Precision {} for K {}\".format(getAvgPrecisionAt10(key),factor))"
   ]
  },
  {
   "cell_type": "code",
   "execution_count": null,
   "metadata": {},
   "outputs": [],
   "source": []
  }
 ],
 "metadata": {
  "kernelspec": {
   "display_name": "Python 3",
   "language": "python",
   "name": "python3"
  },
  "language_info": {
   "codemirror_mode": {
    "name": "ipython",
    "version": 3
   },
   "file_extension": ".py",
   "mimetype": "text/x-python",
   "name": "python",
   "nbconvert_exporter": "python",
   "pygments_lexer": "ipython3",
   "version": "3.7.4"
  }
 },
 "nbformat": 4,
 "nbformat_minor": 2
}
