{
  "nbformat": 4,
  "nbformat_minor": 0,
  "metadata": {
    "colab": {
      "name": "CS6890_assignment1-Q4.ipynb",
      "provenance": [],
      "collapsed_sections": [],
      "mount_file_id": "1_ScENxOeZVJxpzhAVwjOLqc9B9NSr0CZ",
      "authorship_tag": "ABX9TyPEsd9LiL7nDc9s/vUJdbsf",
      "include_colab_link": true
    },
    "kernelspec": {
      "name": "python3",
      "display_name": "Python 3"
    },
    "language_info": {
      "name": "python"
    }
  },
  "cells": [
    {
      "cell_type": "markdown",
      "metadata": {
        "id": "view-in-github",
        "colab_type": "text"
      },
      "source": [
        "<a href=\"https://colab.research.google.com/github/rkes/JupyterNoteBooks/blob/main/CS6890_assignment1_Q4.ipynb\" target=\"_parent\"><img src=\"https://colab.research.google.com/assets/colab-badge.svg\" alt=\"Open In Colab\"/></a>"
      ]
    },
    {
      "cell_type": "code",
      "metadata": {
        "id": "VRzrbldp9d5O"
      },
      "source": [
        "from scipy import stats\n",
        "import pandas as pd\n",
        "import numpy as np\n",
        "import math\n",
        "from scipy.sparse.linalg import svds\n",
        "#import surprise\n",
        "from scipy.sparse import coo_matrix\n",
        "from numpy.linalg import norm\n",
        "from sklearn.metrics import mean_squared_error\n",
        "from numpy import linalg as LA"
      ],
      "execution_count": 2,
      "outputs": []
    },
    {
      "cell_type": "code",
      "metadata": {
        "id": "Q2leHnFn-Rv-"
      },
      "source": [
        "cols=[\"user_id\",\"movie_id\",\"ratings\",\"timestamp\"]\n",
        "df=pd.read_csv(\"/content/drive/MyDrive/Colab Notebooks/u1.base\",sep=\"\\t\",names=cols,encoding=\"latin-1\")\n",
        "test_df=pd.read_csv(\"/content/drive/MyDrive/Colab Notebooks/u1.test\",sep=\"\\t\",names=cols,encoding=\"latin-1\")\n",
        "ratings_pivot = df.pivot(index='movie_id', columns='user_id', values=\"ratings\").fillna(0)\n",
        "test_ratings_pivot = df.pivot(index='movie_id', columns='user_id', values=\"ratings\").fillna(0)\n",
        "\n",
        "test_df_group_by_user = test_df.groupby('user_id')\n",
        "test_df_group_by_movie = test_df.groupby('movie_id')\n",
        "\n",
        "train_df_user_movie = df.pivot(\n",
        "    index='movie_id',\n",
        "    columns='user_id',\n",
        "    values='ratings'\n",
        ").fillna(0)\n",
        "\n",
        "\n",
        "test_df_user_movie = test_df.pivot(\n",
        "    index='movie_id',\n",
        "    columns='user_id',\n",
        "    values='ratings'\n",
        ").fillna(0)\n",
        "\n",
        "#Creating the rating matrix (rows as movies, columns as users)\n",
        "ratings_mat = np.ndarray(\n",
        "    shape=(np.max(df.movie_id.values), np.max(df.user_id.values)),\n",
        "    dtype=np.float)\n",
        "ratings_mat[df.movie_id.values-1, df.user_id.values-1] = df.ratings.values.astype(float)\n",
        "\n",
        "\n",
        "\n",
        "samples = [\n",
        "            (i, j, ratings_mat[i, j])\n",
        "            for i in range(1,df.movie_id.max())\n",
        "            for j in range(1,df.user_id.max())\n",
        "            if ratings_mat[i, j] > 0\n",
        "        ]\n",
        "\n"
      ],
      "execution_count": 4,
      "outputs": []
    },
    {
      "cell_type": "code",
      "metadata": {
        "id": "kWYHH6na-3Be"
      },
      "source": [
        "def SGD(R, K, lamda=0.005,steps=10):\n",
        "    \n",
        "    M,N = R.shape\n",
        "    # According to slide i have initialized P and Q by SVD\n",
        "    P,U,Q=svds(R,K)\n",
        "    minErr = error(R,P,Q,lamda);\n",
        "    for step in range(steps):\n",
        "        for ui in range(len(R.data)):\n",
        "            rui=R.data[ui]\n",
        "            u = R.row[ui]\n",
        "            i = R.col[ui]\n",
        "            if rui>0:\n",
        "                eui = 2*(rui - np.dot(P[u,:],Q[:,i]))\n",
        "                if math.isnan(eui):\n",
        "                    P[u,:]=P[u,:]+lamda*eui*(Q[:,i])\n",
        "                    Q[:,i]=Q[:,i]+lamda*eui*(P[u,:])\n",
        "        err = error(R,P,Q,lamda);\n",
        "        rmse = np.sqrt(error(R,P,Q,lamda)/len(R.data))\n",
        "        if rmse<0.5:\n",
        "            break\n",
        "        if err > minErr:\n",
        "            break;\n",
        "        minErr = err\n",
        "    return P,Q\n",
        "\n",
        "def error(R,P,Q,lamda=0.05):\n",
        "    ratings = R.data\n",
        "    rows = R.row\n",
        "    cols = R.col\n",
        "    e = 0 \n",
        "    for ui in range(len(ratings)):\n",
        "        rui=ratings[ui]\n",
        "        u = rows[ui]\n",
        "        i = cols[ui]\n",
        "        if rui>0:\n",
        "            e= e + pow(rui-np.dot(P[u,:],Q[:,i]),2)\n",
        "    return e\n",
        "\n",
        "def get_group(group,key):\n",
        "    if key in group.groups: return group.get_group(key)\n",
        "    return pd.DataFrame()\n",
        "    \n",
        "\n",
        "def SGDWithRegularization(R, K, lamda=0.005,steps=10,L1=0.01,L2=0.03,gamma=0.001):\n",
        "    \n",
        "    M,N = R.shape\n",
        "    # According to slide i have initialized P and Q by SVD\n",
        "    P,U,Q=svds(R,K)\n",
        "    minErr = np.zeros(df.user_id.max()+1) \n",
        "    for i in range(df.user_id.max()+1):\n",
        "        minErr[i] = np.Inf;\n",
        "    #hl, = plt.plot([], [])  \n",
        "    for step in range(steps):\n",
        "        px =0;\n",
        "        qx =0;\n",
        "        print(\"Step {}\".format(step))\n",
        "        for ui in range(len(R.data)):\n",
        "            rui=R.data[ui]\n",
        "            u = R.row[ui]\n",
        "            i = R.col[ui]\n",
        "            if rui>0:\n",
        "                eui = 2*(rui - np.dot(P[u,:],Q[:,i]))\n",
        "                #print(\" ** \",eui,\"  \",step,\" user  \",u)\n",
        "                #P[u,:]=P[u,:]+lamda*eui*(Q[:,i])\n",
        "                #Q[:,i]=Q[:,i]+lamda*eui*(P[u,:])\n",
        "                \n",
        "                tempP=P[u,:]+lamda*eui*Q[:,i]\n",
        "                tempQ=Q[:,i]+lamda*eui*P[u,:]\n",
        "                tempPx = LA.norm(P[u,:])\n",
        "                tempQx= LA.norm(Q[:,i])\n",
        "                 #qx += LA.norm(Q[:,i])\n",
        "                err = error(R,P,Q,lamda);\n",
        "                if  minErr[i] > err:\n",
        "                    P[u,:]=tempP\n",
        "                    Q[:,i]=tempQ\n",
        "                    px +=  tempPx\n",
        "                    qx +=  tempQx\n",
        "                    minErr[i]=err\n",
        "                    \n",
        "                rmse = np.sqrt(err/len(R.data))\n",
        "                #print(\"px,qx,rmse \",\" ** \",px,qx,rmse)\n",
        "        #print(px,qx)\n",
        "        err = error(R,P,Q,lamda);\n",
        "        rmse = np.sqrt(err/len(R.data))\n",
        "        err = err + L1*px+L2*qx # added Regularization\n",
        "        if rmse<0.5:\n",
        "            break;\n",
        "        if err > minErr:\n",
        "            break;\n",
        "        minErr = err\n",
        "    return P,Q\n"
      ],
      "execution_count": 5,
      "outputs": []
    },
    {
      "cell_type": "code",
      "metadata": {
        "id": "U81logUp-89T"
      },
      "source": [
        "def caculateRatingOnLatentFactor(res,key):\n",
        "    for i in list(test_df_group_by_movie.groups.keys()):\n",
        "        for j in list(test_df_group_by_user.groups.keys()):\n",
        "            test_df.loc[((test_df[\"movie_id\"]==i) & (test_df[\"user_id\"]==j)),key] =res[i,j]\n",
        "\n",
        "def getAvgPrecisionAt10(key):\n",
        "    threashold=4\n",
        "    grpDfCalc = test_df.sort_values([key]).groupby('user_id')\n",
        "    group_by_key = 'movie_id';\n",
        "    actual_data = ratings_pivot.values;\n",
        "    cnt=0;\n",
        "    total =0;\n",
        "    for mov in actual_data:\n",
        "            mov_idx_ratingGtThreashold = np.argwhere(mov>threashold)\n",
        "            for userKey in list(grpDfCalc.groups.keys()):\n",
        "                user_movies = grpDfCalc.get_group(userKey)\n",
        "                union = len(np.union1d(mov_idx_ratingGtThreashold,user_movies));\n",
        "                intersection = len(np.intersect1d(mov_idx_ratingGtThreashold,user_movies));\n",
        "                if union>0 and intersection>0:          \n",
        "                    total+=(intersection/union);\n",
        "                cnt+=1;\n",
        "    if total>0:\n",
        "        return (total/cnt)\n",
        "    return 0;"
      ],
      "execution_count": 7,
      "outputs": []
    },
    {
      "cell_type": "code",
      "metadata": {
        "colab": {
          "base_uri": "https://localhost:8080/"
        },
        "id": "gY1hSYMK-_m7",
        "outputId": "d4303fc1-6ff1-47a0-b01a-d527f0a4c57e"
      },
      "source": [
        "R = coo_matrix(ratings_pivot.values)\n",
        "P,Q=SGDWithRegularization(R,K=2, steps=1,L1=0.001,L2=0.003)"
      ],
      "execution_count": null,
      "outputs": [
        {
          "metadata": {
            "tags": null
          },
          "name": "stdout",
          "output_type": "stream",
          "text": [
            "Step 0\n"
          ]
        }
      ]
    }
  ]
}