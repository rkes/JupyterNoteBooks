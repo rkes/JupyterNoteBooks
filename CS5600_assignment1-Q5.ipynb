{
 "cells": [
  {
   "cell_type": "code",
   "execution_count": 85,
   "metadata": {},
   "outputs": [],
   "source": [
    "from surprise import KNNBasic\n",
    "from surprise import KNNBaseline\n",
    "from surprise import Dataset,SVD,NormalPredictor\n",
    "from surprise import Reader\n",
    "from collections import defaultdict\n",
    "from surprise.model_selection import GridSearchCV\n",
    "from operator import itemgetter\n",
    "import heapq\n",
    "import os\n",
    "import csv\n",
    "import pandas as pd\n",
    "import numpy as np\n",
    "import math\n",
    "from sklearn.metrics import mean_squared_error\n"
   ]
  },
  {
   "cell_type": "code",
   "execution_count": 86,
   "metadata": {},
   "outputs": [],
   "source": [
    "def loadDataSet(fileName):\n",
    "    reader = Reader(line_format=\"user item rating timestamp\",sep=\"\\t\",skip_lines=1)\n",
    "    ratings_set = Dataset.load_from_file(fileName,reader=reader)\n",
    "    return ratings_set"
   ]
  },
  {
   "cell_type": "code",
   "execution_count": 87,
   "metadata": {},
   "outputs": [],
   "source": [
    "trainData = loadDataSet(\"u1.base\")\n",
    "testData = loadDataSet(\"u1.test\")\n",
    "testDataSet = testData.build_full_trainset()\n",
    "trainDataSet = trainData.build_full_trainset()\n",
    "cols=[\"user_id\",\"movie_id\",\"ratings\",\"timestamp\"]\n",
    "df=pd.read_csv(\"u1.base\",sep=\"\\t\",names=cols,encoding=\"latin-1\")\n",
    "test_df=pd.read_csv(\"u1.test\",sep=\"\\t\",names=cols,encoding=\"latin-1\")\n",
    "user_user_df=pd.read_csv(\"u1.test\",sep=\"\\t\",names=cols,encoding=\"latin-1\")\n",
    "max_user_id = np.max(test_df.user_id.values)\n",
    "max_movie_id = np.max(test_df.movie_id.values)\n",
    "ratings_pivot = df.pivot(index='movie_id', columns='user_id', values=\"ratings\").fillna(0)"
   ]
  },
  {
   "cell_type": "code",
   "execution_count": 88,
   "metadata": {},
   "outputs": [
    {
     "name": "stdout",
     "output_type": "stream",
     "text": [
      "Estimating biases using als...\n",
      "Computing the cosine similarity matrix...\n",
      "Done computing similarity matrix.\n",
      "Computing the cosine similarity matrix...\n",
      "Done computing similarity matrix.\n",
      "Estimating biases using als...\n",
      "Computing the pearson_baseline similarity matrix...\n",
      "Done computing similarity matrix.\n",
      "Computing the pearson_baseline similarity matrix...\n",
      "Done computing similarity matrix.\n",
      "Estimating biases using als...\n",
      "Computing the cosine similarity matrix...\n",
      "Done computing similarity matrix.\n",
      "Computing the cosine similarity matrix...\n",
      "Done computing similarity matrix.\n",
      "Estimating biases using als...\n",
      "Computing the pearson_baseline similarity matrix...\n",
      "Done computing similarity matrix.\n",
      "Computing the pearson_baseline similarity matrix...\n",
      "Done computing similarity matrix.\n"
     ]
    }
   ],
   "source": [
    "cosine_similarity_matrix = KNNBaseline(sim_options={\n",
    "        'name': 'cosine',\n",
    "        'user_based': False\n",
    "        })\\\n",
    "        .fit(trainDataSet)\\\n",
    "        .compute_similarities()\n",
    "\n",
    "pearson_similarity_matrix = KNNBaseline(sim_options={\n",
    "        'name': 'pearson_baseline',\n",
    "        'user_based': False\n",
    "        })\\\n",
    "        .fit(trainDataSet)\\\n",
    "        .compute_similarities()\n",
    "\n",
    "cosine_similarity_matrix_user = KNNBaseline(sim_options={\n",
    "        'name': 'cosine',\n",
    "        'user_based': True\n",
    "        })\\\n",
    "        .fit(trainDataSet)\\\n",
    "        .compute_similarities()\n",
    "\n",
    "pearson_similarity_matrix_user = KNNBaseline(sim_options={\n",
    "        'name': 'pearson_baseline',\n",
    "        'user_based': True\n",
    "        })\\\n",
    "        .fit(trainDataSet)\\\n",
    "        .compute_similarities()"
   ]
  },
  {
   "cell_type": "code",
   "execution_count": 71,
   "metadata": {},
   "outputs": [],
   "source": [
    "kNN=[2,5,10]\n",
    "\n",
    "cosine_similarity_matrix = np.nan_to_num(cosine_similarity_matrix);\n",
    "for user_id in test_df.user_id.values:\n",
    "    for k in kNN:\n",
    "        test_subj_iid =testDataSet.to_inner_uid(str(user_id))\n",
    "        test_subj_ratings = testDataSet.ur[test_subj_iid]\n",
    "        near_neighbours = heapq.nlargest(k,test_subj_ratings,key=lambda t :t[1])\n",
    "        itemsDict = defaultdict(float)\n",
    "        pdKey = str(k)+'_cosine';\n",
    "        for movieId,rating in near_neighbours:\n",
    "            sim = np.nan_to_num(cosine_similarity_matrix[movieId]);\n",
    "            for innerId,simScore in enumerate(sim):\n",
    "                itemsDict[innerId] += simScore*(rating/5.0);\n",
    "            test_df.loc[((test_df[\"movie_id\"]==movieId) & (test_df[\"user_id\"]==user_id)),pdKey] =itemsDict[movieId]\n",
    "        test_df[pdKey] = test_df[pdKey].fillna(0)\n",
    "            \n",
    "\n",
    "pearson_similarity_matrix = np.nan_to_num(pearson_similarity_matrix);\n",
    "for user_id in test_df.user_id.values:\n",
    "    for k in kNN:\n",
    "        test_subj_iid =testDataSet.to_inner_uid(str(user_id))\n",
    "        test_subj_ratings = testDataSet.ur[test_subj_iid]\n",
    "        near_neighbours = heapq.nlargest(k,test_subj_ratings,key=lambda t :t[1])\n",
    "        itemsDict = defaultdict(float)\n",
    "        pdKey = str(k)+'_pearson';\n",
    "        for movieId,rating in near_neighbours:\n",
    "            sim = np.nan_to_num(pearson_similarity_matrix[movieId]);\n",
    "            for innerId,simScore in enumerate(sim):\n",
    "                itemsDict[innerId] += simScore*(rating/5.0);\n",
    "            test_df.loc[((test_df[\"movie_id\"]==movieId) & (test_df[\"user_id\"]==user_id)),pdKey] =itemsDict[movieId]\n",
    "        test_df[pdKey] = test_df[pdKey].fillna(0)\n",
    "\n",
    "     \n",
    "cosine_similarity_matrix_user = np.nan_to_num(cosine_similarity_matrix);\n",
    "for movie_id in test_df.movie_id.values:\n",
    "    for k in kNN:\n",
    "        test_subj_iid =testDataSet.to_inner_iid(str(movie_id))\n",
    "        test_subj_ratings = testDataSet.ir[test_subj_iid]\n",
    "        near_neighbours = heapq.nlargest(k,test_subj_ratings,key=lambda t :t[1])\n",
    "        itemsDict = defaultdict(float)\n",
    "        pdKey = str(k)+'_cosine';\n",
    "        for userId,rating in near_neighbours:\n",
    "            sim = np.nan_to_num(cosine_similarity_matrix_user[userId]);\n",
    "            for innerId,simScore in enumerate(sim):\n",
    "                itemsDict[innerId] += simScore*(rating/5.0);\n",
    "            user_user_df.loc[((user_user_df[\"movie_id\"]==movie_id) & (user_user_df[\"user_id\"]==userId)),pdKey] =itemsDict[userId]\n",
    "        user_user_df[pdKey] = user_user_df[pdKey].fillna(0)\n",
    "            \n",
    "            \n",
    "\n",
    "pearson_similarity_matrix_user = np.nan_to_num(pearson_similarity_matrix_user);\n",
    "for movie_id in test_df.movie_id.values:\n",
    "    for k in kNN:\n",
    "        test_subj_iid =testDataSet.to_inner_iid(str(movie_id))\n",
    "        test_subj_ratings = testDataSet.ir[test_subj_iid]\n",
    "        near_neighbours = heapq.nlargest(k,test_subj_ratings,key=lambda t :t[1])\n",
    "        itemsDict = defaultdict(float)\n",
    "        pdKey = str(k)+'_pearson';\n",
    "        for userId,rating in near_neighbours:\n",
    "            sim = np.nan_to_num(pearson_similarity_matrix_user[userId]);\n",
    "            for innerId,simScore in enumerate(sim):\n",
    "                itemsDict[innerId] += simScore*(rating/5.0);\n",
    "            user_user_df.loc[((user_user_df[\"movie_id\"]==movie_id) & (user_user_df[\"user_id\"]==userId)),pdKey] =itemsDict[userId]\n",
    "        user_user_df[pdKey] = user_user_df[pdKey].fillna(0)"
   ]
  },
  {
   "cell_type": "code",
   "execution_count": 78,
   "metadata": {},
   "outputs": [
    {
     "name": "stdout",
     "output_type": "stream",
     "text": [
      "********************** QUESTION 5 ********************************************************\n",
      "************ Movie Movie  ***********************\n",
      "Cosine Movie Movie Top2_RMSE_Score  :  3.716501918508152\n",
      "Cosine Movie Movie Top5_RMSE_Score  :  3.7093519570772995\n",
      "Cosine Movie Movie Top10_RMSE_Score :  3.707645599799954\n",
      "Pearson Movie Movie Top2_RMSE_Score  :  3.7172478607171935\n",
      "Pearson Movie Movie Top5_RMSE_Score  :  3.7137808683872695\n",
      "Pearson Movie Movie Top10_RMSE_Score :  3.708120109297158\n",
      "************ user user  ***********************\n",
      "Cosine User User Top2_RMSE_Score  :  3.71356869516944\n",
      "Cosine User User Top5_RMSE_Score  :  3.702847249394114\n",
      "Cosine User User Top10_RMSE_Score :  3.696532293087497\n",
      "Pearson User User Top2_RMSE_Score  :  3.7150783705798296\n",
      "Pearson User User Top5_RMSE_Score  :  3.7102318277012767\n",
      "Pearson User User Top10_RMSE_Score :  3.701977170572221\n",
      "\n",
      "\n"
     ]
    }
   ],
   "source": [
    "print(\"********************** QUESTION 5 ********************************************************\")\n",
    "print(\"************ Movie Movie  ***********************\")\n",
    "print(\"Cosine Movie Movie Top2_RMSE_Score  : \",math.sqrt(mean_squared_error(test_df['2_cosine'],test_df['ratings'])))\n",
    "print(\"Cosine Movie Movie Top5_RMSE_Score  : \",math.sqrt(mean_squared_error(test_df['5_cosine'],test_df['ratings'])))\n",
    "print(\"Cosine Movie Movie Top10_RMSE_Score : \",math.sqrt(mean_squared_error(test_df['10_cosine'],test_df['ratings'])))\n",
    "print(\"Pearson Movie Movie Top2_RMSE_Score  : \",math.sqrt(mean_squared_error(test_df['2_pearson'],test_df['ratings'])))\n",
    "print(\"Pearson Movie Movie Top5_RMSE_Score  : \",math.sqrt(mean_squared_error(test_df['5_pearson'],test_df['ratings'])))\n",
    "print(\"Pearson Movie Movie Top10_RMSE_Score : \",math.sqrt(mean_squared_error(test_df['10_pearson'],test_df['ratings'])))\n",
    "\n",
    "print(\"************ user user  ***********************\")\n",
    "print(\"Cosine User User Top2_RMSE_Score  : \",math.sqrt(mean_squared_error(user_user_df['2_cosine'],user_user_df['ratings'])))\n",
    "print(\"Cosine User User Top5_RMSE_Score  : \",math.sqrt(mean_squared_error(user_user_df['5_cosine'],user_user_df['ratings'])))\n",
    "print(\"Cosine User User Top10_RMSE_Score : \",math.sqrt(mean_squared_error(user_user_df['10_cosine'],user_user_df['ratings'])))\n",
    "print(\"Pearson User User Top2_RMSE_Score  : \",math.sqrt(mean_squared_error(user_user_df['2_pearson'],user_user_df['ratings'])))\n",
    "print(\"Pearson User User Top5_RMSE_Score  : \",math.sqrt(mean_squared_error(user_user_df['5_pearson'],user_user_df['ratings'])))\n",
    "print(\"Pearson User User Top10_RMSE_Score : \",math.sqrt(mean_squared_error(user_user_df['10_pearson'],user_user_df['ratings'])))\n",
    "print(\"\\n\")\n"
   ]
  },
  {
   "cell_type": "code",
   "execution_count": 5,
   "metadata": {},
   "outputs": [],
   "source": [
    "param_grid = {'n_factors':[2,5,10],'n_epochs':[10,20,30],  'lr_all':[0.0005,0.001,0.005,0.01],'reg_all':[0.001,0.003,0.05,0.5,0.75]}\n",
    "gs = GridSearchCV(SVD, param_grid, measures=['rmse'], cv=3)\n",
    "gs.fit(trainData)"
   ]
  },
  {
   "cell_type": "code",
   "execution_count": 6,
   "metadata": {},
   "outputs": [
    {
     "data": {
      "text/plain": [
       "{'n_factors': 5, 'n_epochs': 30, 'lr_all': 0.01, 'reg_all': 0.05}"
      ]
     },
     "execution_count": 6,
     "metadata": {},
     "output_type": "execute_result"
    }
   ],
   "source": [
    "gs.best_params['rmse']"
   ]
  },
  {
   "cell_type": "code",
   "execution_count": 107,
   "metadata": {},
   "outputs": [
    {
     "name": "stdout",
     "output_type": "stream",
     "text": [
      "************ 2Latent_Factor ************* \n",
      "************ 5Latent_Factor ************* \n",
      "************ 10Latent_Factor ************* \n"
     ]
    }
   ],
   "source": [
    "kFactors=[2,5,10]\n",
    "for factor in kFactors:\n",
    "    svd = SVD(n_factors=factor,n_epochs=30,lr_all=0.01,reg_all=0.05)\n",
    "    svd.fit(trainDataSet)\n",
    "    key='{}Latent_Factor'.format(factor)\n",
    "    print(\"************ {} ************* \".format(key))\n",
    "    for user_id  in  test_df.user_id.unique():\n",
    "        for movie_id in test_df.movie_id.unique():\n",
    "            test_df.loc[((test_df[\"movie_id\"]==movie_id) & (test_df[\"user_id\"]==user_id)),key] =str(svd.predict(uid=user_id,iid=movie_id).est)\n",
    "        "
   ]
  },
  {
   "cell_type": "code",
   "execution_count": 110,
   "metadata": {},
   "outputs": [
    {
     "name": "stdout",
     "output_type": "stream",
     "text": [
      "********************** QUESTION 5 ********************************************************\n",
      "************ Movie Movie  ***********************\n",
      "Cosine Movie Movie Top2_RMSE_Score  :  1.1536760683206604\n",
      "Cosine Movie Movie Top2_RMSE_Score  :  1.1536760683206604\n",
      "Cosine Movie Movie Top2_RMSE_Score  :  1.1536760683206604\n"
     ]
    }
   ],
   "source": [
    "print(\"********************** QUESTION 5 ********************************************************\")\n",
    "print(\"************ Movie Movie  ***********************\")\n",
    "print(\"Cosine Movie Movie Top2_RMSE_Score  : \",math.sqrt(mean_squared_error(test_df['2Latent_Factor'],test_df['ratings'])))\n",
    "print(\"Cosine Movie Movie Top2_RMSE_Score  : \",math.sqrt(mean_squared_error(test_df['5Latent_Factor'],test_df['ratings'])))\n",
    "print(\"Cosine Movie Movie Top2_RMSE_Score  : \",math.sqrt(mean_squared_error(test_df['10Latent_Factor'],test_df['ratings'])))\n"
   ]
  },
  {
   "cell_type": "code",
   "execution_count": null,
   "metadata": {},
   "outputs": [],
   "source": []
  }
 ],
 "metadata": {
  "kernelspec": {
   "display_name": "Python 3",
   "language": "python",
   "name": "python3"
  },
  "language_info": {
   "codemirror_mode": {
    "name": "ipython",
    "version": 3
   },
   "file_extension": ".py",
   "mimetype": "text/x-python",
   "name": "python",
   "nbconvert_exporter": "python",
   "pygments_lexer": "ipython3",
   "version": "3.7.4"
  }
 },
 "nbformat": 4,
 "nbformat_minor": 2
}
